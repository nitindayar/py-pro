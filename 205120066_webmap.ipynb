{
 "cells": [
  {
   "cell_type": "code",
   "execution_count": 2,
   "id": "49782957",
   "metadata": {},
   "outputs": [],
   "source": [
    "#WEB MAP\n",
    "#@205120054, @205120066\n",
    "#importing pandas, folium and XLRD\n",
    "\n",
    "import folium\n",
    "import pandas as pd\n",
    "import xlrd\n",
    "\n",
    "#opening and reading data from excel file using XLRD and PANDAS\n",
    "\n",
    "wb = xlrd.open_workbook(\"nirf_score.xlsx\", encoding_override=\"unicode_escape\")\n",
    "data = pd.read_excel(wb)\n",
    "\n",
    "#storing Excel columns in LIST form\n",
    "\n",
    "ranking = list(data[\"Ranking\"])\n",
    "college_name = list(data[\"College\"])\n",
    "Nirf_score = list(data[\"NIRF Score\"])\n",
    "lat = list(data[\"Latitude\"])\n",
    "lon = list(data[\"Longitude\"])\n",
    "pic = list(data[\"Image\"])\n",
    "web = list(data[\"website\"])\n",
    "\n",
    "#creating map using folium\n",
    "\n",
    "fg = folium.FeatureGroup(\"map\")\n",
    "\n",
    "#creating outlines of map of INDIA\n",
    "\n",
    "fg.add_child(folium.GeoJson(data =(open(\"boundary.json\",\"r\",encoding=\"utf-8-sig\").read())))\n",
    "\n",
    "#adding marker for each entry in the LIST\n",
    "\n",
    "for rank,name,score,lati,longi,ima,webi in zip(ranking,college_name, Nirf_score,lat,lon,pic,web):\n",
    "    fg.add_child(folium.Marker(location=[lati,longi],popup=\"<b>College Name : </b>\"+str(name)+\n",
    "                               \"<br> <b>Rank among Colleges in India : </b>\"+str(rank)+\n",
    "                               \"<br> <b>NIRF Score : </b>\"+str(score)+\n",
    "                               \"<a href=\"+webi+\" <br> <img src=\"+ima+\" height=142 , width=290></a>\",icon=folium.Icon(color=\"red\")))\n",
    "map=folium.Map(location=[20.0000,75.0000],zoom_start=5)\n",
    "map.add_child(fg)\n",
    "\n",
    "#saving output to index.html\n",
    "\n",
    "map.save(\"index.html\")"
   ]
  },
  {
   "cell_type": "code",
   "execution_count": null,
   "id": "5b4470ca",
   "metadata": {},
   "outputs": [],
   "source": []
  }
 ],
 "metadata": {
  "kernelspec": {
   "display_name": "Python 3",
   "language": "python",
   "name": "python3"
  },
  "language_info": {
   "codemirror_mode": {
    "name": "ipython",
    "version": 3
   },
   "file_extension": ".py",
   "mimetype": "text/x-python",
   "name": "python",
   "nbconvert_exporter": "python",
   "pygments_lexer": "ipython3",
   "version": "3.8.8"
  }
 },
 "nbformat": 4,
 "nbformat_minor": 5
}
